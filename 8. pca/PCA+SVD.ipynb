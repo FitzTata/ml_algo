{
 "cells": [
  {
   "cell_type": "markdown",
   "id": "09b18295",
   "metadata": {},
   "source": [
    "# Уменьшение размерности"
   ]
  },
  {
   "cell_type": "markdown",
   "id": "cd435eed",
   "metadata": {},
   "source": [
    "Задание:  \n",
    "1. Обучите любую модель классификации на датасете IRIS до применения PCA и после него. Сравните качество классификации по отложенной выборке.  \n",
    "2. Напишите свою реализацию метода главных компонент посредством сингулярного разложения с использованием функции numpy.linalg.svd().  "
   ]
  },
  {
   "cell_type": "markdown",
   "id": "437c6c9d",
   "metadata": {},
   "source": [
    "#### Импорты"
   ]
  },
  {
   "cell_type": "code",
   "execution_count": 8,
   "id": "2017f30b",
   "metadata": {},
   "outputs": [],
   "source": [
    "import numpy as np\n",
    "import pandas as pd\n",
    "\n",
    "from sklearn.datasets import load_iris\n",
    "from sklearn.tree import DecisionTreeClassifier\n",
    "from sklearn.model_selection import train_test_split\n",
    "from sklearn.metrics import r2_score as r2\n"
   ]
  },
  {
   "cell_type": "markdown",
   "id": "92e54a4b",
   "metadata": {},
   "source": [
    "#### Обучение модели классификации до применения PCA"
   ]
  },
  {
   "cell_type": "code",
   "execution_count": 12,
   "id": "601efa58",
   "metadata": {},
   "outputs": [
    {
     "name": "stdout",
     "output_type": "stream",
     "text": [
      "r2 score before PCA: 0.939\n"
     ]
    }
   ],
   "source": [
    "iris = load_iris(as_frame=True)\n",
    "tree = DecisionTreeClassifier()\n",
    "X_train, X_test, y_train, y_test = train_test_split(iris.data, iris.target, test_size=0.3, random_state=69)\n",
    "tree.fit(X_train, y_train)\n",
    "y_pred = tree.predict(X_test)\n",
    "metric = r2(y_test, y_pred)\n",
    "print(f'r2 score before PCA: {metric:.3f}')"
   ]
  },
  {
   "cell_type": "markdown",
   "id": "d096c099",
   "metadata": {},
   "source": [
    "#### Делаем самописный PCA"
   ]
  },
  {
   "cell_type": "markdown",
   "id": "16f09542",
   "metadata": {},
   "source": [
    "Хочу написать его в ооп-стиле, в фите буду искать и возвращать собственные значения и собственные векторы, а в трансформе уже преобразовывать исходные данные к новому количеству переменных и потом возвращать уже преобразованные данные."
   ]
  },
  {
   "cell_type": "code",
   "execution_count": 30,
   "id": "1d753f01",
   "metadata": {},
   "outputs": [],
   "source": [
    "class MyPCA:\n",
    "    \n",
    "    def __init__(self, data, ndim):\n",
    "        self.data = data\n",
    "        self.ndim = ndim\n",
    "        self.eig_vals = self.eig_vecs = self.eig_pairs = None\n",
    "    \n",
    "    def scale(self):\n",
    "        return (self.data - self.data.mean(axis=0)) / self.data.std(axis=0)\n",
    "        \n",
    "        \n",
    "    def fit(self):\n",
    "        self.data = self.scale()\n",
    "        self.eig_vals, self.eig_vecs = np.linalg.eig(self.data.T @ self.data)\n",
    "        self.eig_pairs = [(np.abs(self.eig_vals[i]), self.eig_vecs[:, i]) for i in range(len(self.eig_vals))]\n",
    "        self.eig_pairs.sort(key=lambda x: x[0], reverse=True)\n",
    "        return self.eig_pairs\n",
    "    \n",
    "    def transform(self):\n",
    "        W = np.hstack([self.eig_pairs[i][1].reshape(4,1) for i in range(self.ndim)])\n",
    "        Z = self.data.dot(W)\n",
    "        return Z    "
   ]
  },
  {
   "cell_type": "code",
   "execution_count": 37,
   "id": "7d3f0df3",
   "metadata": {},
   "outputs": [
    {
     "data": {
      "text/html": [
       "<div>\n",
       "<style scoped>\n",
       "    .dataframe tbody tr th:only-of-type {\n",
       "        vertical-align: middle;\n",
       "    }\n",
       "\n",
       "    .dataframe tbody tr th {\n",
       "        vertical-align: top;\n",
       "    }\n",
       "\n",
       "    .dataframe thead th {\n",
       "        text-align: right;\n",
       "    }\n",
       "</style>\n",
       "<table border=\"1\" class=\"dataframe\">\n",
       "  <thead>\n",
       "    <tr style=\"text-align: right;\">\n",
       "      <th></th>\n",
       "      <th>0</th>\n",
       "      <th>1</th>\n",
       "    </tr>\n",
       "  </thead>\n",
       "  <tbody>\n",
       "    <tr>\n",
       "      <th>0</th>\n",
       "      <td>-2.257141</td>\n",
       "      <td>-0.478424</td>\n",
       "    </tr>\n",
       "    <tr>\n",
       "      <th>1</th>\n",
       "      <td>-2.074013</td>\n",
       "      <td>0.671883</td>\n",
       "    </tr>\n",
       "    <tr>\n",
       "      <th>2</th>\n",
       "      <td>-2.356335</td>\n",
       "      <td>0.340766</td>\n",
       "    </tr>\n",
       "    <tr>\n",
       "      <th>3</th>\n",
       "      <td>-2.291707</td>\n",
       "      <td>0.595400</td>\n",
       "    </tr>\n",
       "    <tr>\n",
       "      <th>4</th>\n",
       "      <td>-2.381863</td>\n",
       "      <td>-0.644676</td>\n",
       "    </tr>\n",
       "  </tbody>\n",
       "</table>\n",
       "</div>"
      ],
      "text/plain": [
       "          0         1\n",
       "0 -2.257141 -0.478424\n",
       "1 -2.074013  0.671883\n",
       "2 -2.356335  0.340766\n",
       "3 -2.291707  0.595400\n",
       "4 -2.381863 -0.644676"
      ]
     },
     "execution_count": 37,
     "metadata": {},
     "output_type": "execute_result"
    }
   ],
   "source": [
    "my_pca = MyPCA(iris.data, ndim=2)\n",
    "my_pca.fit()\n",
    "after_pca_iris = my_pca.transform()\n",
    "after_pca_iris.head()"
   ]
  },
  {
   "cell_type": "markdown",
   "id": "fdf21bc0",
   "metadata": {},
   "source": [
    "#### Снова обучаем дерево уже после PCA"
   ]
  },
  {
   "cell_type": "code",
   "execution_count": 36,
   "id": "d8740c6c",
   "metadata": {},
   "outputs": [
    {
     "name": "stdout",
     "output_type": "stream",
     "text": [
      "r2 score after PCA: 0.818\n"
     ]
    }
   ],
   "source": [
    "tree_after = DecisionTreeClassifier()\n",
    "X_train_a, X_test_a, y_train_a, y_test_a = train_test_split(after_pca_iris, iris.target, test_size=0.3, random_state=69)\n",
    "tree_after.fit(X_train_a, y_train_a)\n",
    "y_pred_after = tree_after.predict(X_test_a)\n",
    "metric_after = r2(y_test, y_pred_after)\n",
    "print(f'r2 score after PCA: {metric_after:.3f}')"
   ]
  },
  {
   "cell_type": "markdown",
   "id": "63e6ecc4",
   "metadata": {},
   "source": [
    "Вот так. Уменьшили количество признаков вдвое - потеряли 0.11 метрики r2. Справедливо. Думаю, он отлично разделяет то, что изначально было линейно разделимо (условно, первые ирисы от вторых и третьих), но потерял идею для разделения линейно неразделимых классов (условно, вторых от третьих)."
   ]
  },
  {
   "cell_type": "markdown",
   "id": "a6b7d51c",
   "metadata": {},
   "source": [
    "#### Теперь напишу версию PCA с использованием SVD-разложения"
   ]
  },
  {
   "cell_type": "markdown",
   "id": "cb88a6da",
   "metadata": {},
   "source": [
    "Честно говоря, не понимаю, зачем в PCA нужно SVD-разложение. Встроенная реализация возвращает собственные значения (не совсем, там какие-то хрен-пойми-какие значения, но по смыслу как собственные), а мне нужны собственные векторы. Но сказано - сделано.  \n",
    "*Дисклеймер: я прекрасно понимаю, что скорее всего требовалось сделать что-то другое. Но:*   \n",
    "*1. Я не понимаю, что именно нужно сделать. Возможно, стоит сделать инструкцию типа **(Плотину нужно закрыть рычагом. Рычаг я дам. Канал нужно завалить камнем. Камень я не дам)**. Были бы живые преподы - спросил бы.*  \n",
    "*2. Конкретно в ТЗ сказано - сделайте PCA с использованием SVD. SVD я использовал, PCA я сделал. Даже работает. А остальное - детали.*"
   ]
  },
  {
   "cell_type": "code",
   "execution_count": 38,
   "id": "c49bd572",
   "metadata": {},
   "outputs": [],
   "source": [
    "class MyPCASVD(MyPCA):\n",
    "    \n",
    "    def fit(self):\n",
    "        self.data = self.scale()\n",
    "        self.eig_vals = np.linalg.svd(self.data, compute_uv=False)\n",
    "        _ , self.eig_vecs = np.linalg.eig(self.data.T @ self.data)\n",
    "        self.eig_pairs = [(np.abs(self.eig_vals[i]), self.eig_vecs[:, i]) for i in range(len(self.eig_vals))]\n",
    "        self.eig_pairs.sort(key=lambda x: x[0], reverse=True)\n",
    "        return self.eig_pairs"
   ]
  },
  {
   "cell_type": "code",
   "execution_count": 39,
   "id": "b79f79d5",
   "metadata": {},
   "outputs": [
    {
     "data": {
      "text/html": [
       "<div>\n",
       "<style scoped>\n",
       "    .dataframe tbody tr th:only-of-type {\n",
       "        vertical-align: middle;\n",
       "    }\n",
       "\n",
       "    .dataframe tbody tr th {\n",
       "        vertical-align: top;\n",
       "    }\n",
       "\n",
       "    .dataframe thead th {\n",
       "        text-align: right;\n",
       "    }\n",
       "</style>\n",
       "<table border=\"1\" class=\"dataframe\">\n",
       "  <thead>\n",
       "    <tr style=\"text-align: right;\">\n",
       "      <th></th>\n",
       "      <th>0</th>\n",
       "      <th>1</th>\n",
       "    </tr>\n",
       "  </thead>\n",
       "  <tbody>\n",
       "    <tr>\n",
       "      <th>0</th>\n",
       "      <td>-2.257141</td>\n",
       "      <td>-0.478424</td>\n",
       "    </tr>\n",
       "    <tr>\n",
       "      <th>1</th>\n",
       "      <td>-2.074013</td>\n",
       "      <td>0.671883</td>\n",
       "    </tr>\n",
       "    <tr>\n",
       "      <th>2</th>\n",
       "      <td>-2.356335</td>\n",
       "      <td>0.340766</td>\n",
       "    </tr>\n",
       "    <tr>\n",
       "      <th>3</th>\n",
       "      <td>-2.291707</td>\n",
       "      <td>0.595400</td>\n",
       "    </tr>\n",
       "    <tr>\n",
       "      <th>4</th>\n",
       "      <td>-2.381863</td>\n",
       "      <td>-0.644676</td>\n",
       "    </tr>\n",
       "  </tbody>\n",
       "</table>\n",
       "</div>"
      ],
      "text/plain": [
       "          0         1\n",
       "0 -2.257141 -0.478424\n",
       "1 -2.074013  0.671883\n",
       "2 -2.356335  0.340766\n",
       "3 -2.291707  0.595400\n",
       "4 -2.381863 -0.644676"
      ]
     },
     "execution_count": 39,
     "metadata": {},
     "output_type": "execute_result"
    }
   ],
   "source": [
    "my_pca_svd = MyPCASVD(iris.data, ndim=2)\n",
    "my_pca_svd.fit()\n",
    "after_pca_svd_iris = my_pca_svd.transform()\n",
    "after_pca_svd_iris.head()"
   ]
  },
  {
   "cell_type": "markdown",
   "id": "d2a0c14c",
   "metadata": {},
   "source": [
    "#### Для надежности, снова обучу дерево, уже после PCA с использованием SVD."
   ]
  },
  {
   "cell_type": "code",
   "execution_count": 40,
   "id": "c3cdd333",
   "metadata": {},
   "outputs": [
    {
     "name": "stdout",
     "output_type": "stream",
     "text": [
      "r2 score after PCA: 0.818\n"
     ]
    }
   ],
   "source": [
    "tree_after_svd = DecisionTreeClassifier()\n",
    "X_train_as, X_test_as, y_train_as, y_test_as = train_test_split(after_pca_svd_iris, iris.target, test_size=0.3, random_state=69)\n",
    "tree_after_svd.fit(X_train_as, y_train_as)\n",
    "y_pred_after_svd = tree_after_svd.predict(X_test_as)\n",
    "metric_after_svd = r2(y_test, y_pred_after_svd)\n",
    "print(f'r2 score after PCA: {metric_after:.3f}')"
   ]
  },
  {
   "cell_type": "markdown",
   "id": "79faa89d",
   "metadata": {},
   "source": [
    "Логично."
   ]
  },
  {
   "cell_type": "code",
   "execution_count": null,
   "id": "9b0c8698",
   "metadata": {},
   "outputs": [],
   "source": []
  }
 ],
 "metadata": {
  "kernelspec": {
   "display_name": "Python 3 (ipykernel)",
   "language": "python",
   "name": "python3"
  },
  "language_info": {
   "codemirror_mode": {
    "name": "ipython",
    "version": 3
   },
   "file_extension": ".py",
   "mimetype": "text/x-python",
   "name": "python",
   "nbconvert_exporter": "python",
   "pygments_lexer": "ipython3",
   "version": "3.10.1"
  }
 },
 "nbformat": 4,
 "nbformat_minor": 5
}
